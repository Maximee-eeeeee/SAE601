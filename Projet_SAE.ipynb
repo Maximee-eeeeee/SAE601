{
 "cells": [
  {
   "cell_type": "code",
   "execution_count": 28,
   "id": "c662a3d4",
   "metadata": {
    "collapsed": true,
    "jupyter": {
     "outputs_hidden": true
    },
    "scrolled": true
   },
   "outputs": [
    {
     "name": "stderr",
     "output_type": "stream",
     "text": [
      "C:\\Users\\e2200422\\AppData\\local\\Temp\\ipykernel_16428\\568132765.py:2: DeprecationWarning: Importing display from IPython.core.display is deprecated since IPython 7.14, please import from IPython.display\n",
      "  from IPython.core.display import display, HTML\n"
     ]
    },
    {
     "data": {
      "text/html": [
       "<style>.container { width:80% !important; }</style>"
      ],
      "text/plain": [
       "<IPython.core.display.HTML object>"
      ]
     },
     "metadata": {},
     "output_type": "display_data"
    }
   ],
   "source": [
    "# pour changer la largeur de la page htlm générée par Jupyter :\n",
    "from IPython.core.display import display, HTML\n",
    "display(HTML(\"<style>.container { width:80% !important; }</style>\"))"
   ]
  },
  {
   "cell_type": "markdown",
   "id": "f6eff43d",
   "metadata": {},
   "source": [
    "# TP : Exploration et Analyse de Données avec Pandas et Streamlit\n",
    "\n",
    "## Objectif\n",
    "\n",
    "Ce projet vise à développer vos compétences en manipulation et analyse de données à l'aide de la bibliothèque Pandas en Python. Vous apprendrez à :\n",
    "\n",
    "- Importer et explorer des données provenant de Kaggle.\n",
    "- Effectuer des requêtes et manipulations de type SQL avec Pandas.\n",
    "- Créer des visualisations interactives avec Streamlit.\n",
    "\n",
    "Ce projet est noté. Tous les codes devront être écrits en Python dans des champs *jupyter* et devront respecter les conventions de nommage. L'énoncé **ne doit pas être modifié**.\n",
    "\n",
    "La derniere séance du projet, vous déposerez le fichier jupyter (projetSAE.ipynb) sur la plateforme pédagogique.\n"
   ]
  },
  {
   "cell_type": "markdown",
   "id": "3109e372",
   "metadata": {},
   "source": [
    "##### Procédure à réaliser avant les séances de TD (nous utiliserons désormais jupyter lab)\n",
    "- Lancer Anaconda Prompt sous Windows\n",
    "- Saisissez dans Anaconda Prompt : \n",
    "conda create -n projet python pandas numpy matplotlib jupyterlab kagglehub seaborn streamlit plotly\n",
    "\n",
    "=> à la demande \"Proceed ([y]/n)?\" saisissez y (ou juste pressez sur la touche \"entrée\")\n",
    "=> \"Executing transaction\" prend du temps, c'est normal\n",
    "Saisissez dans Anaconda Prompt : \n",
    "conda activate projet\n",
    "\n",
    "##### Saisissez dans Anaconda Prompt : \n",
    "jupyter lab --notebook-dir=\"h:/\"\n",
    "Ouvrir projetSAE.ipynb dans Jupyter"
   ]
  },
  {
   "cell_type": "code",
   "execution_count": 29,
   "id": "5a1b3f02",
   "metadata": {},
   "outputs": [],
   "source": [
    "%matplotlib notebook ##import des packages\n",
    "%matplotlib inline\n",
    "import os\n",
    "import shutil\n",
    "import pandas as pd\n",
    "import numpy as np\n",
    "import matplotlib.pyplot as plt\n",
    "\n",
    "import seaborn as sns\n",
    "import streamlit as st"
   ]
  },
  {
   "cell_type": "markdown",
   "id": "d57dab67",
   "metadata": {},
   "source": [
    "### Partie 1 : importation et exploration des données"
   ]
  },
  {
   "cell_type": "markdown",
   "id": "33235b70",
   "metadata": {
    "jp-MarkdownHeadingCollapsed": true
   },
   "source": [
    "#### Travailler avec Git\n",
    "1 - En utilisant le prompt conda : initialiser le projet \n",
    "\n",
    "2 - Ajouter le fichier Jupyter Notebook et faite votre premier commit \n",
    " \n",
    "3 -  Creer un projet sur github dépôt distant (sans README.md )\n",
    "\n",
    "4 - Pousser le projet vers ce dépôt \n",
    "\n",
    "5 - Enlever les checkpoint de jupyter "
   ]
  },
  {
   "cell_type": "markdown",
   "id": "8b18bb17",
   "metadata": {},
   "source": [
    "#### Questions\n",
    "1. Téléchargez le Dataset **Data Science Salaries 2023** sur Kaggle (https://www.kaggle.com/datasets/) via **kagglehub**.\n",
    "2. Copier le fichier du cache au répertoire du projet, décompresser et visualiser le fichier CSV **ds_salaries.csv**\n",
    "3. Importez le fichiers CSV avec Pandas."
   ]
  },
  {
   "cell_type": "markdown",
   "id": "b01f9ad7",
   "metadata": {},
   "source": [
    "##### Votre code"
   ]
  },
  {
   "cell_type": "code",
   "execution_count": 71,
   "id": "b81cdc79",
   "metadata": {},
   "outputs": [
    {
     "data": {
      "text/html": [
       "<div>\n",
       "<style scoped>\n",
       "    .dataframe tbody tr th:only-of-type {\n",
       "        vertical-align: middle;\n",
       "    }\n",
       "\n",
       "    .dataframe tbody tr th {\n",
       "        vertical-align: top;\n",
       "    }\n",
       "\n",
       "    .dataframe thead th {\n",
       "        text-align: right;\n",
       "    }\n",
       "</style>\n",
       "<table border=\"1\" class=\"dataframe\">\n",
       "  <thead>\n",
       "    <tr style=\"text-align: right;\">\n",
       "      <th></th>\n",
       "      <th>work_year</th>\n",
       "      <th>experience_level</th>\n",
       "      <th>employment_type</th>\n",
       "      <th>job_title</th>\n",
       "      <th>salary</th>\n",
       "      <th>salary_currency</th>\n",
       "      <th>salary_in_usd</th>\n",
       "      <th>employee_residence</th>\n",
       "      <th>remote_ratio</th>\n",
       "      <th>company_location</th>\n",
       "      <th>company_size</th>\n",
       "    </tr>\n",
       "  </thead>\n",
       "  <tbody>\n",
       "    <tr>\n",
       "      <th>0</th>\n",
       "      <td>2023</td>\n",
       "      <td>SE</td>\n",
       "      <td>FT</td>\n",
       "      <td>Principal Data Scientist</td>\n",
       "      <td>80000</td>\n",
       "      <td>EUR</td>\n",
       "      <td>85847</td>\n",
       "      <td>ES</td>\n",
       "      <td>100</td>\n",
       "      <td>ES</td>\n",
       "      <td>L</td>\n",
       "    </tr>\n",
       "    <tr>\n",
       "      <th>1</th>\n",
       "      <td>2023</td>\n",
       "      <td>MI</td>\n",
       "      <td>CT</td>\n",
       "      <td>ML Engineer</td>\n",
       "      <td>30000</td>\n",
       "      <td>USD</td>\n",
       "      <td>30000</td>\n",
       "      <td>US</td>\n",
       "      <td>100</td>\n",
       "      <td>US</td>\n",
       "      <td>S</td>\n",
       "    </tr>\n",
       "    <tr>\n",
       "      <th>2</th>\n",
       "      <td>2023</td>\n",
       "      <td>MI</td>\n",
       "      <td>CT</td>\n",
       "      <td>ML Engineer</td>\n",
       "      <td>25500</td>\n",
       "      <td>USD</td>\n",
       "      <td>25500</td>\n",
       "      <td>US</td>\n",
       "      <td>100</td>\n",
       "      <td>US</td>\n",
       "      <td>S</td>\n",
       "    </tr>\n",
       "    <tr>\n",
       "      <th>3</th>\n",
       "      <td>2023</td>\n",
       "      <td>SE</td>\n",
       "      <td>FT</td>\n",
       "      <td>Data Scientist</td>\n",
       "      <td>175000</td>\n",
       "      <td>USD</td>\n",
       "      <td>175000</td>\n",
       "      <td>CA</td>\n",
       "      <td>100</td>\n",
       "      <td>CA</td>\n",
       "      <td>M</td>\n",
       "    </tr>\n",
       "    <tr>\n",
       "      <th>4</th>\n",
       "      <td>2023</td>\n",
       "      <td>SE</td>\n",
       "      <td>FT</td>\n",
       "      <td>Data Scientist</td>\n",
       "      <td>120000</td>\n",
       "      <td>USD</td>\n",
       "      <td>120000</td>\n",
       "      <td>CA</td>\n",
       "      <td>100</td>\n",
       "      <td>CA</td>\n",
       "      <td>M</td>\n",
       "    </tr>\n",
       "    <tr>\n",
       "      <th>...</th>\n",
       "      <td>...</td>\n",
       "      <td>...</td>\n",
       "      <td>...</td>\n",
       "      <td>...</td>\n",
       "      <td>...</td>\n",
       "      <td>...</td>\n",
       "      <td>...</td>\n",
       "      <td>...</td>\n",
       "      <td>...</td>\n",
       "      <td>...</td>\n",
       "      <td>...</td>\n",
       "    </tr>\n",
       "    <tr>\n",
       "      <th>3750</th>\n",
       "      <td>2020</td>\n",
       "      <td>SE</td>\n",
       "      <td>FT</td>\n",
       "      <td>Data Scientist</td>\n",
       "      <td>412000</td>\n",
       "      <td>USD</td>\n",
       "      <td>412000</td>\n",
       "      <td>US</td>\n",
       "      <td>100</td>\n",
       "      <td>US</td>\n",
       "      <td>L</td>\n",
       "    </tr>\n",
       "    <tr>\n",
       "      <th>3751</th>\n",
       "      <td>2021</td>\n",
       "      <td>MI</td>\n",
       "      <td>FT</td>\n",
       "      <td>Principal Data Scientist</td>\n",
       "      <td>151000</td>\n",
       "      <td>USD</td>\n",
       "      <td>151000</td>\n",
       "      <td>US</td>\n",
       "      <td>100</td>\n",
       "      <td>US</td>\n",
       "      <td>L</td>\n",
       "    </tr>\n",
       "    <tr>\n",
       "      <th>3752</th>\n",
       "      <td>2020</td>\n",
       "      <td>EN</td>\n",
       "      <td>FT</td>\n",
       "      <td>Data Scientist</td>\n",
       "      <td>105000</td>\n",
       "      <td>USD</td>\n",
       "      <td>105000</td>\n",
       "      <td>US</td>\n",
       "      <td>100</td>\n",
       "      <td>US</td>\n",
       "      <td>S</td>\n",
       "    </tr>\n",
       "    <tr>\n",
       "      <th>3753</th>\n",
       "      <td>2020</td>\n",
       "      <td>EN</td>\n",
       "      <td>CT</td>\n",
       "      <td>Business Data Analyst</td>\n",
       "      <td>100000</td>\n",
       "      <td>USD</td>\n",
       "      <td>100000</td>\n",
       "      <td>US</td>\n",
       "      <td>100</td>\n",
       "      <td>US</td>\n",
       "      <td>L</td>\n",
       "    </tr>\n",
       "    <tr>\n",
       "      <th>3754</th>\n",
       "      <td>2021</td>\n",
       "      <td>SE</td>\n",
       "      <td>FT</td>\n",
       "      <td>Data Science Manager</td>\n",
       "      <td>7000000</td>\n",
       "      <td>INR</td>\n",
       "      <td>94665</td>\n",
       "      <td>IN</td>\n",
       "      <td>50</td>\n",
       "      <td>IN</td>\n",
       "      <td>L</td>\n",
       "    </tr>\n",
       "  </tbody>\n",
       "</table>\n",
       "<p>3755 rows × 11 columns</p>\n",
       "</div>"
      ],
      "text/plain": [
       "      work_year experience_level employment_type                 job_title  \\\n",
       "0          2023               SE              FT  Principal Data Scientist   \n",
       "1          2023               MI              CT               ML Engineer   \n",
       "2          2023               MI              CT               ML Engineer   \n",
       "3          2023               SE              FT            Data Scientist   \n",
       "4          2023               SE              FT            Data Scientist   \n",
       "...         ...              ...             ...                       ...   \n",
       "3750       2020               SE              FT            Data Scientist   \n",
       "3751       2021               MI              FT  Principal Data Scientist   \n",
       "3752       2020               EN              FT            Data Scientist   \n",
       "3753       2020               EN              CT     Business Data Analyst   \n",
       "3754       2021               SE              FT      Data Science Manager   \n",
       "\n",
       "       salary salary_currency  salary_in_usd employee_residence  remote_ratio  \\\n",
       "0       80000             EUR          85847                 ES           100   \n",
       "1       30000             USD          30000                 US           100   \n",
       "2       25500             USD          25500                 US           100   \n",
       "3      175000             USD         175000                 CA           100   \n",
       "4      120000             USD         120000                 CA           100   \n",
       "...       ...             ...            ...                ...           ...   \n",
       "3750   412000             USD         412000                 US           100   \n",
       "3751   151000             USD         151000                 US           100   \n",
       "3752   105000             USD         105000                 US           100   \n",
       "3753   100000             USD         100000                 US           100   \n",
       "3754  7000000             INR          94665                 IN            50   \n",
       "\n",
       "     company_location company_size  \n",
       "0                  ES            L  \n",
       "1                  US            S  \n",
       "2                  US            S  \n",
       "3                  CA            M  \n",
       "4                  CA            M  \n",
       "...               ...          ...  \n",
       "3750               US            L  \n",
       "3751               US            L  \n",
       "3752               US            S  \n",
       "3753               US            L  \n",
       "3754               IN            L  \n",
       "\n",
       "[3755 rows x 11 columns]"
      ]
     },
     "execution_count": 71,
     "metadata": {},
     "output_type": "execute_result"
    }
   ],
   "source": [
    "data = pd.read_csv(\"h:/BUT3/sae 601/ds_salaries.csv\",sep =\",\") #On importe les données \n",
    "data"
   ]
  },
  {
   "cell_type": "markdown",
   "id": "a3c026f0",
   "metadata": {},
   "source": [
    "##### Une bonne pratique \n",
    "- Copier les données téléchargées et les coller dans le répertoire du projet.\n",
    "Pour cela, utilisez la bibliothéque os et shutil"
   ]
  },
  {
   "cell_type": "code",
   "execution_count": 70,
   "id": "ff8da337",
   "metadata": {},
   "outputs": [
    {
     "ename": "NameError",
     "evalue": "name 'path' is not defined",
     "output_type": "error",
     "traceback": [
      "\u001b[1;31m---------------------------------------------------------------------------\u001b[0m",
      "\u001b[1;31mNameError\u001b[0m                                 Traceback (most recent call last)",
      "Cell \u001b[1;32mIn[70], line 2\u001b[0m\n\u001b[0;32m      1\u001b[0m \u001b[38;5;66;03m# Lire le fichier depuis le répertoire du projet\u001b[39;00m\n\u001b[1;32m----> 2\u001b[0m data \u001b[38;5;241m=\u001b[39m pd\u001b[38;5;241m.\u001b[39mread_csv(\u001b[38;5;124mf\u001b[39m\u001b[38;5;124m\"\u001b[39m\u001b[38;5;132;01m{\u001b[39;00mpath\u001b[38;5;132;01m}\u001b[39;00m\u001b[38;5;124m/ds_salaries.csv\u001b[39m\u001b[38;5;124m\"\u001b[39m)\n\u001b[0;32m      3\u001b[0m \u001b[38;5;28mprint\u001b[39m(data\u001b[38;5;241m.\u001b[39mhead())\n",
      "\u001b[1;31mNameError\u001b[0m: name 'path' is not defined"
     ]
    }
   ],
   "source": [
    "Projet gitHub : https://github.com/Maximee-eeeeee/SAE601.git\n",
    "# Répertoire cible dans votre projet\n",
    "#project_dir = r\".....\"\n",
    "\n",
    "# Créer le répertoire (si nécessaire)\n",
    "os.makedirs(project_dir, exist_ok=True)\n",
    "\n",
    "# Copier le fichier depuis le cache au répertoire du projet\n",
    "#cache_file = r\"..........ds_salaries.csv\"\n",
    "shutil.copy(cache_file, project_dir)"
   ]
  },
  {
   "cell_type": "code",
   "execution_count": 32,
   "id": "c150ef82",
   "metadata": {},
   "outputs": [],
   "source": [
    "# Lire le fichier depuis le répertoire du projet\n"
   ]
  },
  {
   "cell_type": "markdown",
   "id": "6beae70c",
   "metadata": {},
   "source": [
    "### Partie 2 : Analyses exploratoires"
   ]
  },
  {
   "cell_type": "markdown",
   "id": "2e561960",
   "metadata": {},
   "source": [
    "#### Question 1 :\n",
    "Nous Souhaitons :\n",
    "\n",
    "1. Connaitre est ce qu'il y a des données manquantes dans notre dataset.\n",
    "2. Voir la distribution des salaires en USD avec la bibliothèque seaborn sous fome d'histogramme\n",
    "3. avoir la liste des pays concerné par l'étude \n",
    "4. connaitre les salaire moyen par rôle, par pays, par niveau d'expérience"
   ]
  },
  {
   "cell_type": "markdown",
   "id": "e3d1bfbe",
   "metadata": {},
   "source": [
    "#### Votre code"
   ]
  },
  {
   "cell_type": "code",
   "execution_count": 33,
   "id": "d25ef4a6",
   "metadata": {
    "scrolled": true
   },
   "outputs": [
    {
     "data": {
      "text/plain": [
       "work_year             0\n",
       "experience_level      0\n",
       "employment_type       0\n",
       "job_title             0\n",
       "salary                0\n",
       "salary_currency       0\n",
       "salary_in_usd         0\n",
       "employee_residence    0\n",
       "remote_ratio          0\n",
       "company_location      0\n",
       "company_size          0\n",
       "dtype: int64"
      ]
     },
     "execution_count": 33,
     "metadata": {},
     "output_type": "execute_result"
    }
   ],
   "source": [
    "#données manquantes \n",
    "data.isna().sum()"
   ]
  },
  {
   "cell_type": "code",
   "execution_count": 34,
   "id": "1be28b55",
   "metadata": {},
   "outputs": [
    {
     "data": {
      "image/png": "[encoded data removed]",
      "text/plain": [
       "<Figure size 500x500 with 1 Axes>"
      ]
     },
     "metadata": {},
     "output_type": "display_data"
    }
   ],
   "source": [
    "# Distribution des salaires en USD\n",
    "sns.displot(data[\"salary_in_usd\"],kde =True ,bins = 30)\n",
    "plt.show()"
   ]
  },
  {
   "cell_type": "code",
   "execution_count": 35,
   "id": "59ab1534",
   "metadata": {},
   "outputs": [
    {
     "data": {
      "text/plain": [
       "array(['ES', 'US', 'CA', 'DE', 'GB', 'NG', 'IN', 'HK', 'PT', 'NL', 'CH',\n",
       "       'CF', 'FR', 'AU', 'FI', 'UA', 'IE', 'IL', 'GH', 'AT', 'CO', 'SG',\n",
       "       'SE', 'SI', 'MX', 'UZ', 'BR', 'TH', 'HR', 'PL', 'KW', 'VN', 'CY',\n",
       "       'AR', 'AM', 'BA', 'KE', 'GR', 'MK', 'LV', 'RO', 'PK', 'IT', 'MA',\n",
       "       'LT', 'BE', 'AS', 'IR', 'HU', 'SK', 'CN', 'CZ', 'CR', 'TR', 'CL',\n",
       "       'PR', 'DK', 'BO', 'PH', 'DO', 'EG', 'ID', 'AE', 'MY', 'JP', 'EE',\n",
       "       'HN', 'TN', 'RU', 'DZ', 'IQ', 'BG', 'JE', 'RS', 'NZ', 'MD', 'LU',\n",
       "       'MT'], dtype=object)"
      ]
     },
     "execution_count": 35,
     "metadata": {},
     "output_type": "execute_result"
    }
   ],
   "source": [
    "# liste des pays concerné par l'étude \n",
    "\n",
    "data[\"employee_residence\"].unique()"
   ]
  },
  {
   "cell_type": "code",
   "execution_count": 36,
   "id": "fa1ccca8",
   "metadata": {},
   "outputs": [
    {
     "name": "stdout",
     "output_type": "stream",
     "text": [
      "                        salary\n",
      "employment_type               \n",
      "CT               113300.000000\n",
      "FL               288755.500000\n",
      "FT               191146.539268\n",
      "PT                79910.823529\n",
      "                           salary\n",
      "employee_residence               \n",
      "AE                  100000.000000\n",
      "AM                   50000.000000\n",
      "AR                   35500.000000\n",
      "AS                   32777.500000\n",
      "AT                   65833.333333\n",
      "...                           ...\n",
      "TR                  114600.000000\n",
      "UA                   57850.000000\n",
      "US                  152822.011651\n",
      "UZ                  103000.000000\n",
      "VN                   33466.666667\n",
      "\n",
      "[78 rows x 1 columns]\n",
      "                         salary\n",
      "experience_level               \n",
      "EN                188381.178125\n",
      "EX                246802.201754\n",
      "MI                248200.306832\n",
      "SE                170048.965421\n"
     ]
    }
   ],
   "source": [
    "#Salaire moyen par rôle\n",
    "print(data.groupby(['employment_type'])[['salary']].mean())\n",
    "\n",
    "# Salaire moyen par pays\n",
    "print(data.groupby(['employee_residence'])[['salary']].mean())\n",
    "\n",
    "# Salaires moyens par niveau d'expérience\n",
    "print(data.groupby(['experience_level'])[['salary']].mean())"
   ]
  },
  {
   "cell_type": "markdown",
   "id": "5fed3aef",
   "metadata": {},
   "source": [
    "#### Question 2 :\n",
    "Nous Souhaitons :\n",
    "\n",
    "1. Filtrer les salaires pour un pays donné (ex : US)\n",
    "2. Connaitre les top 5 des entreprises qui paient le plus\n",
    "\n",
    "3. Filtrage et agrégation:\n",
    "    - Afficher tous les employés dont le salaire est supérieur à 100 000 USD, ainsi que leur rôle.\n",
    "    - Pays avec la plus forte proportion de télétravail (remote_ratio = 100)\n",
    "       \n",
    "4. Requêtes conditionnelles: \n",
    "    - Salaire moyen des employés à distance (100%)\n",
    "    - Comparer salaires moyens pour deux catégories\n",
    "        \n",
    "5. Ajouter une colonne pour les fourchettes de salaires\n",
    "6. Corrélations : Relation entre télétravail et salaire: \n",
    " -\n",
    "7. Salaire moyen par taille d'entreprise \n",
    "8. faire un tableau croisé : Moyenne des salaires par niveau d'expérience et télétravail"
   ]
  },
  {
   "cell_type": "code",
   "execution_count": 72,
   "id": "057e12e8",
   "metadata": {},
   "outputs": [
    {
     "data": {
      "text/html": [
       "<div>\n",
       "<style scoped>\n",
       "    .dataframe tbody tr th:only-of-type {\n",
       "        vertical-align: middle;\n",
       "    }\n",
       "\n",
       "    .dataframe tbody tr th {\n",
       "        vertical-align: top;\n",
       "    }\n",
       "\n",
       "    .dataframe thead th {\n",
       "        text-align: right;\n",
       "    }\n",
       "</style>\n",
       "<table border=\"1\" class=\"dataframe\">\n",
       "  <thead>\n",
       "    <tr style=\"text-align: right;\">\n",
       "      <th></th>\n",
       "      <th>work_year</th>\n",
       "      <th>experience_level</th>\n",
       "      <th>employment_type</th>\n",
       "      <th>job_title</th>\n",
       "      <th>salary</th>\n",
       "      <th>salary_currency</th>\n",
       "      <th>salary_in_usd</th>\n",
       "      <th>employee_residence</th>\n",
       "      <th>remote_ratio</th>\n",
       "      <th>company_location</th>\n",
       "      <th>company_size</th>\n",
       "    </tr>\n",
       "  </thead>\n",
       "  <tbody>\n",
       "    <tr>\n",
       "      <th>3</th>\n",
       "      <td>2023</td>\n",
       "      <td>SE</td>\n",
       "      <td>FT</td>\n",
       "      <td>Data Scientist</td>\n",
       "      <td>175000</td>\n",
       "      <td>USD</td>\n",
       "      <td>175000</td>\n",
       "      <td>CA</td>\n",
       "      <td>100</td>\n",
       "      <td>CA</td>\n",
       "      <td>M</td>\n",
       "    </tr>\n",
       "    <tr>\n",
       "      <th>4</th>\n",
       "      <td>2023</td>\n",
       "      <td>SE</td>\n",
       "      <td>FT</td>\n",
       "      <td>Data Scientist</td>\n",
       "      <td>120000</td>\n",
       "      <td>USD</td>\n",
       "      <td>120000</td>\n",
       "      <td>CA</td>\n",
       "      <td>100</td>\n",
       "      <td>CA</td>\n",
       "      <td>M</td>\n",
       "    </tr>\n",
       "    <tr>\n",
       "      <th>7</th>\n",
       "      <td>2023</td>\n",
       "      <td>SE</td>\n",
       "      <td>FT</td>\n",
       "      <td>Data Scientist</td>\n",
       "      <td>219000</td>\n",
       "      <td>USD</td>\n",
       "      <td>219000</td>\n",
       "      <td>CA</td>\n",
       "      <td>0</td>\n",
       "      <td>CA</td>\n",
       "      <td>M</td>\n",
       "    </tr>\n",
       "    <tr>\n",
       "      <th>8</th>\n",
       "      <td>2023</td>\n",
       "      <td>SE</td>\n",
       "      <td>FT</td>\n",
       "      <td>Data Scientist</td>\n",
       "      <td>141000</td>\n",
       "      <td>USD</td>\n",
       "      <td>141000</td>\n",
       "      <td>CA</td>\n",
       "      <td>0</td>\n",
       "      <td>CA</td>\n",
       "      <td>M</td>\n",
       "    </tr>\n",
       "    <tr>\n",
       "      <th>29</th>\n",
       "      <td>2023</td>\n",
       "      <td>SE</td>\n",
       "      <td>FT</td>\n",
       "      <td>Data Strategist</td>\n",
       "      <td>90000</td>\n",
       "      <td>USD</td>\n",
       "      <td>90000</td>\n",
       "      <td>CA</td>\n",
       "      <td>0</td>\n",
       "      <td>CA</td>\n",
       "      <td>M</td>\n",
       "    </tr>\n",
       "    <tr>\n",
       "      <th>...</th>\n",
       "      <td>...</td>\n",
       "      <td>...</td>\n",
       "      <td>...</td>\n",
       "      <td>...</td>\n",
       "      <td>...</td>\n",
       "      <td>...</td>\n",
       "      <td>...</td>\n",
       "      <td>...</td>\n",
       "      <td>...</td>\n",
       "      <td>...</td>\n",
       "      <td>...</td>\n",
       "    </tr>\n",
       "    <tr>\n",
       "      <th>3604</th>\n",
       "      <td>2021</td>\n",
       "      <td>SE</td>\n",
       "      <td>FT</td>\n",
       "      <td>Data Scientist</td>\n",
       "      <td>130000</td>\n",
       "      <td>CAD</td>\n",
       "      <td>103691</td>\n",
       "      <td>CA</td>\n",
       "      <td>100</td>\n",
       "      <td>CA</td>\n",
       "      <td>L</td>\n",
       "    </tr>\n",
       "    <tr>\n",
       "      <th>3608</th>\n",
       "      <td>2021</td>\n",
       "      <td>MI</td>\n",
       "      <td>FT</td>\n",
       "      <td>Research Scientist</td>\n",
       "      <td>80000</td>\n",
       "      <td>CAD</td>\n",
       "      <td>63810</td>\n",
       "      <td>CA</td>\n",
       "      <td>100</td>\n",
       "      <td>CA</td>\n",
       "      <td>M</td>\n",
       "    </tr>\n",
       "    <tr>\n",
       "      <th>3645</th>\n",
       "      <td>2021</td>\n",
       "      <td>SE</td>\n",
       "      <td>FT</td>\n",
       "      <td>Data Analyst</td>\n",
       "      <td>90000</td>\n",
       "      <td>CAD</td>\n",
       "      <td>71786</td>\n",
       "      <td>CA</td>\n",
       "      <td>100</td>\n",
       "      <td>CA</td>\n",
       "      <td>M</td>\n",
       "    </tr>\n",
       "    <tr>\n",
       "      <th>3653</th>\n",
       "      <td>2021</td>\n",
       "      <td>SE</td>\n",
       "      <td>FT</td>\n",
       "      <td>Research Scientist</td>\n",
       "      <td>120500</td>\n",
       "      <td>CAD</td>\n",
       "      <td>96113</td>\n",
       "      <td>CA</td>\n",
       "      <td>50</td>\n",
       "      <td>CA</td>\n",
       "      <td>L</td>\n",
       "    </tr>\n",
       "    <tr>\n",
       "      <th>3714</th>\n",
       "      <td>2021</td>\n",
       "      <td>SE</td>\n",
       "      <td>FT</td>\n",
       "      <td>Data Scientist</td>\n",
       "      <td>110000</td>\n",
       "      <td>CAD</td>\n",
       "      <td>87738</td>\n",
       "      <td>CA</td>\n",
       "      <td>100</td>\n",
       "      <td>CA</td>\n",
       "      <td>S</td>\n",
       "    </tr>\n",
       "  </tbody>\n",
       "</table>\n",
       "<p>85 rows × 11 columns</p>\n",
       "</div>"
      ],
      "text/plain": [
       "      work_year experience_level employment_type           job_title  salary  \\\n",
       "3          2023               SE              FT      Data Scientist  175000   \n",
       "4          2023               SE              FT      Data Scientist  120000   \n",
       "7          2023               SE              FT      Data Scientist  219000   \n",
       "8          2023               SE              FT      Data Scientist  141000   \n",
       "29         2023               SE              FT     Data Strategist   90000   \n",
       "...         ...              ...             ...                 ...     ...   \n",
       "3604       2021               SE              FT      Data Scientist  130000   \n",
       "3608       2021               MI              FT  Research Scientist   80000   \n",
       "3645       2021               SE              FT        Data Analyst   90000   \n",
       "3653       2021               SE              FT  Research Scientist  120500   \n",
       "3714       2021               SE              FT      Data Scientist  110000   \n",
       "\n",
       "     salary_currency  salary_in_usd employee_residence  remote_ratio  \\\n",
       "3                USD         175000                 CA           100   \n",
       "4                USD         120000                 CA           100   \n",
       "7                USD         219000                 CA             0   \n",
       "8                USD         141000                 CA             0   \n",
       "29               USD          90000                 CA             0   \n",
       "...              ...            ...                ...           ...   \n",
       "3604             CAD         103691                 CA           100   \n",
       "3608             CAD          63810                 CA           100   \n",
       "3645             CAD          71786                 CA           100   \n",
       "3653             CAD          96113                 CA            50   \n",
       "3714             CAD          87738                 CA           100   \n",
       "\n",
       "     company_location company_size  \n",
       "3                  CA            M  \n",
       "4                  CA            M  \n",
       "7                  CA            M  \n",
       "8                  CA            M  \n",
       "29                 CA            M  \n",
       "...               ...          ...  \n",
       "3604               CA            L  \n",
       "3608               CA            M  \n",
       "3645               CA            M  \n",
       "3653               CA            L  \n",
       "3714               CA            S  \n",
       "\n",
       "[85 rows x 11 columns]"
      ]
     },
     "execution_count": 72,
     "metadata": {},
     "output_type": "execute_result"
    }
   ],
   "source": [
    "# Filtrer les salaires pour un pays donné (ex : US)\n",
    "data[data[\"employee_residence\"] == \"CA\"]\n"
   ]
  },
  {
   "cell_type": "code",
   "execution_count": 73,
   "id": "6be2ec47",
   "metadata": {},
   "outputs": [
    {
     "name": "stdout",
     "output_type": "stream",
     "text": [
      "                     salary\n",
      "company_location           \n",
      "US                479302687\n",
      "IN                105213997\n",
      "CL                 30400000\n",
      "JP                 20452000\n",
      "HU                 17600000\n"
     ]
    }
   ],
   "source": [
    "# Top 5 des entreprises qui paient le plus\n",
    "print(data.groupby(['company_location'])[['salary']].sum().sort_values('salary', ascending=False).head(5))"
   ]
  },
  {
   "cell_type": "code",
   "execution_count": 74,
   "id": "10d4d3d4",
   "metadata": {},
   "outputs": [
    {
     "name": "stdout",
     "output_type": "stream",
     "text": [
      "                        salary\n",
      "employment_type               \n",
      "CT               113300.000000\n",
      "FL               288755.500000\n",
      "FT               191146.539268\n",
      "                    remote_ratio\n",
      "employee_residence              \n",
      "AR                         100.0\n",
      "BG                         100.0\n",
      "CF                         100.0\n",
      "CL                         100.0\n",
      "DO                         100.0\n",
      "EE                         100.0\n",
      "EG                         100.0\n",
      "IR                         100.0\n",
      "KE                         100.0\n",
      "LU                         100.0\n",
      "MY                         100.0\n",
      "PH                         100.0\n",
      "PL                         100.0\n",
      "RS                         100.0\n",
      "SK                         100.0\n",
      "TN                         100.0\n"
     ]
    }
   ],
   "source": [
    "# Filtrer les données\n",
    "# Rôles avec un salaire moyen supérieur à 100,000\n",
    "data2 = data.groupby(['employment_type'])[['salary']].mean()\n",
    "print(data2[data2[\"salary\"] > 100000])\n",
    "\n",
    "# Pays avec la plus forte proportion de télétravail (remote_ratio = 100)\n",
    "data3 = data.groupby(['employee_residence'])[['remote_ratio']].mean()\n",
    "print(data3[data3[\"remote_ratio\"] == 100])"
   ]
  },
  {
   "cell_type": "code",
   "execution_count": 76,
   "id": "3d3e19de",
   "metadata": {},
   "outputs": [
    {
     "name": "stdout",
     "output_type": "stream",
     "text": [
      "Le Salaire moyen des employés à distance :  136481.45\n",
      "Le Salaire moyen des Data Analyst :  108716.23\n",
      "Le Salaire moyen des Data Engineer :  142785.73\n"
     ]
    }
   ],
   "source": [
    "# Requêtes conditionnelles\n",
    "# Salaire moyen des employés à distance (100%)\n",
    "\n",
    "# On définit un nouveau dataset pour filtrer puis on fait la moyenne\n",
    "data_remote_100 = data[data['remote_ratio'] == 100]\n",
    "print(\"Le Salaire moyen des employés à distance : \",data_remote_100['salary_in_usd'].mean().round(2))\n",
    "\n",
    "# Comparer salaires moyens pour deux catégories\n",
    "# On définit un nouveau dataset pour filtrer puis on fait la moyenne\n",
    "data_Data_Analyst = data[data['job_title'] == \"Data Analyst\"]\n",
    "print(\"Le Salaire moyen des Data Analyst : \",data_Data_Analyst['salary_in_usd'].mean().round(2))\n",
    "\n",
    "data_Data_Engineer = data[data['job_title'] == \"Data Engineer\"]\n",
    "print(\"Le Salaire moyen des Data Engineer : \",data_Data_Engineer['salary_in_usd'].mean().round(2))\n"
   ]
  },
  {
   "cell_type": "code",
   "execution_count": 65,
   "id": "7d72271b",
   "metadata": {},
   "outputs": [
    {
     "name": "stdout",
     "output_type": "stream",
     "text": [
      "                     job_title  salary_in_usd fourchette_salaire\n",
      "0     Principal Data Scientist          85847           50k-100k\n",
      "1                  ML Engineer          30000               <50k\n",
      "2                  ML Engineer          25500               <50k\n",
      "3               Data Scientist         175000              150k+\n",
      "4               Data Scientist         120000          100k-150k\n",
      "...                        ...            ...                ...\n",
      "3750            Data Scientist         412000              150k+\n",
      "3751  Principal Data Scientist         151000              150k+\n",
      "3752            Data Scientist         105000          100k-150k\n",
      "3753     Business Data Analyst         100000          100k-150k\n",
      "3754      Data Science Manager          94665           50k-100k\n",
      "\n",
      "[3755 rows x 3 columns]\n"
     ]
    }
   ],
   "source": [
    "# Ajouter une colonne pour les fourchettes de salaires\n",
    "\n",
    "# Fonction pour définir les différentes fourchettes de salaire\n",
    "def categorie_salaire(salary):\n",
    "    if salary < 50000:\n",
    "        return \"<50k\"\n",
    "    elif 50000 <= salary < 100000:\n",
    "        return \"50k-100k\"\n",
    "    elif 100000 <= salary < 150000:\n",
    "        return \"100k-150k\"\n",
    "    else:\n",
    "        return \"150k+\"\n",
    "\n",
    "# On applique la fonction sur la colonne salary_in_usd\n",
    "data['fourchette_salaire'] = data['salary_in_usd'].apply(categorie_salaire)\n",
    "\n",
    "# On affiche le nouveau dataframe\n",
    "print(data[['job_title', 'salary_in_usd', 'fourchette_salaire']])"
   ]
  },
  {
   "cell_type": "code",
   "execution_count": 66,
   "id": "08ebd32f",
   "metadata": {},
   "outputs": [
    {
     "name": "stdout",
     "output_type": "stream",
     "text": [
      "-0.06417098519057557\n"
     ]
    }
   ],
   "source": [
    "# Analyse des corrélations\n",
    "# Relation entre télétravail et salaire\n",
    "print(data['remote_ratio'].corr(data['salary_in_usd']))\n",
    "# Il y a donc très peu de lien entre le télétravail et le salaire"
   ]
  },
  {
   "cell_type": "code",
   "execution_count": 67,
   "id": "a024d154",
   "metadata": {},
   "outputs": [
    {
     "name": "stdout",
     "output_type": "stream",
     "text": [
      "company_size\n",
      "L    118300.98\n",
      "M    143130.55\n",
      "S     78226.68\n",
      "Name: salary_in_usd, dtype: float64\n"
     ]
    }
   ],
   "source": [
    "# Salaire moyen par taille d'entreprise\n",
    "print(data['salary_in_usd'].groupby(data['company_size']).mean().round(2))"
   ]
  },
  {
   "cell_type": "code",
   "execution_count": 68,
   "id": "b167d883",
   "metadata": {},
   "outputs": [
    {
     "name": "stdout",
     "output_type": "stream",
     "text": [
      "Tableau croisé des salaires :\n",
      " remote_ratio                0              50             100\n",
      "experience_level                                             \n",
      "EN                104581.765766   64006.230769   65040.486111\n",
      "EX                182435.785714  139030.166667  214837.326923\n",
      "MI                116723.103535   74214.405405   96803.480597\n",
      "SE                154024.064706   98438.136364  154022.023381\n"
     ]
    }
   ],
   "source": [
    "# Tableau croisé des salaires avec en lignes le niveau d'expérience, en colonne la proportion de télétravail et en valeur la moyenne des salaires\n",
    "# De plus, on remarque une corrélation entre le niveau d'expérience et le niveau de rémunération\n",
    "\n",
    "pivot_table = data.pivot_table(\n",
    "    index='experience_level',\n",
    "    columns='remote_ratio',\n",
    "    values='salary_in_usd',\n",
    "    aggfunc='mean'\n",
    ")\n",
    "\n",
    "print(\"Tableau croisé des salaires :\\n\", pivot_table)"
   ]
  }
 ],
 "metadata": {
  "kernelspec": {
   "display_name": "Python 3 (ipykernel)",
   "language": "python",
   "name": "python3"
  },
  "language_info": {
   "codemirror_mode": {
    "name": "ipython",
    "version": 3
   },
   "file_extension": ".py",
   "mimetype": "text/x-python",
   "name": "python",
   "nbconvert_exporter": "python",
   "pygments_lexer": "ipython3",
   "version": "3.12.8"
  }
 },
 "nbformat": 4,
 "nbformat_minor": 5
}
